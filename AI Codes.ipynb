{
 "cells": [
  {
   "cell_type": "code",
   "execution_count": 1,
   "id": "f3becb72",
   "metadata": {},
   "outputs": [
    {
     "name": "stdout",
     "output_type": "stream",
     "text": [
      "Following is Breadth First Traversal: \n",
      "0 1 2 3 "
     ]
    }
   ],
   "source": [
    "# BFS algorithm\n",
    "\n",
    "import collections\n",
    "def bfs(graph, root):\n",
    "\n",
    "    visited, queue = set(), collections.deque([root])\n",
    "    visited.add(root)\n",
    "\n",
    "    while queue:\n",
    "\n",
    "        # Dequeue a vertex from queue\n",
    "        vertex = queue.popleft()\n",
    "        print(str(vertex) + \" \", end=\"\")\n",
    "\n",
    "        # If not visited, mark it as visited, and\n",
    "        # enqueue it\n",
    "\n",
    "        for neighbour in graph[vertex]:\n",
    "            if neighbour not in visited:\n",
    "                visited.add(neighbour)\n",
    "                queue.append(neighbour)\n",
    "\n",
    "\n",
    "if __name__ == '__main__':\n",
    "    graph = {0: [1, 2], 1: [2], 2: [3], 3: [1, 2]}\n",
    "    print(\"Following is Breadth First Traversal: \")\n",
    "    bfs(graph, 0)"
   ]
  },
  {
   "cell_type": "code",
   "execution_count": 2,
   "id": "4ad7d4fc",
   "metadata": {},
   "outputs": [
    {
     "name": "stdout",
     "output_type": "stream",
     "text": [
      "0\n",
      "2\n",
      "1\n",
      "4\n",
      "3\n",
      "3\n"
     ]
    },
    {
     "data": {
      "text/plain": [
       "{'0', '1', '2', '3', '4'}"
      ]
     },
     "execution_count": 2,
     "metadata": {},
     "output_type": "execute_result"
    }
   ],
   "source": [
    "# DFS algorithm\n",
    "\n",
    "def dfs(graph, start, visited=None):\n",
    "    if visited is None:\n",
    "        visited = set()\n",
    "    visited.add(start)\n",
    "\n",
    "    print(start)\n",
    "\n",
    "    for next in graph[start] - visited:\n",
    "        dfs(graph, next, visited)\n",
    "    return visited\n",
    "\n",
    "\n",
    "graph = {'0': set(['1', '2']),\n",
    "         '1': set(['0', '3', '4']),\n",
    "         '2': set(['0']),\n",
    "         '3': set(['1']),\n",
    "         '4': set(['2', '3'])}\n",
    "\n",
    "dfs(graph, '0')"
   ]
  },
  {
   "cell_type": "code",
   "execution_count": 3,
   "id": "b16468bf",
   "metadata": {},
   "outputs": [
    {
     "name": "stdout",
     "output_type": "stream",
     "text": [
      "path:\n",
      "0 1 0 2 \n"
     ]
    }
   ],
   "source": [
    "#Best First Seach Algorithm\n",
    "\n",
    "from queue import PriorityQueue\n",
    "vertices = 14\n",
    "graph = [[] for i in range(vertices)]\n",
    "\n",
    "# Function For Implementing Best First Search\n",
    "# Gives output path having lowest cost\n",
    "\n",
    "def best_first_search(Source, target, vertices):\n",
    "\tvisited = [0] * vertices\n",
    "\tpq = PriorityQueue()\n",
    "\tpq.put((0,Source))\n",
    "\tprint(\"path:\")\n",
    "\twhile not pq.empty():\n",
    "\t\tu = pq.get()[1]\n",
    "\n",
    "\t\t# Displaying the path having lowest cost\n",
    "\n",
    "\t\tprint(u, end=\" \")\n",
    "\t\tif u == target:\n",
    "\t\t\tbreak\n",
    "\n",
    "\t\tfor v, c in graph[u]:\n",
    "\t\t\tif not visited[v]:\n",
    "\t\t\t\tvisited[v] = True\n",
    "\t\t\t\tpq.put((c, v))\n",
    "\tprint()\n",
    "\n",
    "# Function for adding edges to graph\n",
    "\n",
    "def addedge(x, y, cost):\n",
    "\tgraph[x].append((y, cost))\n",
    "\tgraph[y].append((x, cost))\n",
    "\n",
    "# The nodes shown in above example(by alphabets) are\n",
    "# implemented using integers addedge(x,y,cost);\n",
    "\n",
    "addedge(0, 1, 1)\n",
    "addedge(0, 2, 8)\n",
    "addedge(1, 2, 12)\n",
    "addedge(1, 4, 13)\n",
    "addedge(2, 3, 6)\n",
    "addedge(4, 3, 3)\n",
    "source = 0\n",
    "target = 2\n",
    "best_first_search(source, target, vertices)\n",
    "\n",
    "# This code is contributed by Jyotheeswar Ganne"
   ]
  },
  {
   "cell_type": "code",
   "execution_count": 4,
   "id": "d3ebd615",
   "metadata": {},
   "outputs": [
    {
     "name": "stdout",
     "output_type": "stream",
     "text": [
      "[[4, 0, 4, 0, 4, 0, 4, 0, 4, 0], 6.931471805599453]\n",
      "[[4, 0, 4, 0, 4, 0, 4, 0, 4, 1], 7.154615356913663]\n",
      "[[4, 0, 4, 0, 4, 0, 4, 0, 3, 0], 7.154615356913663]\n"
     ]
    }
   ],
   "source": [
    "#Beam First Search\n",
    "\n",
    "from math import log\n",
    "from numpy import array\n",
    "from numpy import argmax\n",
    "# beam search\n",
    "def beam_search_decoder(data, k):\n",
    "        sequences = [[list(), 0.0]]\n",
    "        # walk over each step in sequence\n",
    "        for row in data:\n",
    "                        all_candidates = list()\n",
    "                        # expand each current candidate\n",
    "                        for i in range(len(sequences)):\n",
    "                                    seq, score = sequences[i]\n",
    "                                    for j in range(len(row)):\n",
    "                                            candidate = [seq + [j], score - log(row[j])]\n",
    "                                            all_candidates.append(candidate)\n",
    "                        # order all candidates by score\n",
    "                        ordered = sorted(all_candidates, key=lambda tup:tup[1])\n",
    "                        # select k best\n",
    "                        sequences = ordered[:k]\n",
    "        return sequences\n",
    "# define a sequence of 10 words over a vocab of 5 words\n",
    "data = [[0.1, 0.2, 0.3, 0.4, 0.5],\n",
    "                    [0.5, 0.4, 0.3, 0.2, 0.1],\n",
    "                    [0.1, 0.2, 0.3, 0.4, 0.5],\n",
    "                    [0.5, 0.4, 0.3, 0.2, 0.1],\n",
    "                    [0.1, 0.2, 0.3, 0.4, 0.5],\n",
    "                    [0.5, 0.4, 0.3, 0.2, 0.1],\n",
    "                    [0.1, 0.2, 0.3, 0.4, 0.5],\n",
    "                    [0.5, 0.4, 0.3, 0.2, 0.1],\n",
    "                    [0.1, 0.2, 0.3, 0.4, 0.5],\n",
    "                    [0.5, 0.4, 0.3, 0.2, 0.1]]\n",
    "data = array(data)\n",
    "# decode sequence\n",
    "result = beam_search_decoder(data, 3)\n",
    "# print result\n",
    "for seq in result:\n",
    "            print(seq)"
   ]
  },
  {
   "cell_type": "code",
   "execution_count": 60,
   "id": "ebdb4985",
   "metadata": {},
   "outputs": [
    {
     "name": "stdout",
     "output_type": "stream",
     "text": [
      "Path found: ['A', 'B', 'D']\n"
     ]
    },
    {
     "data": {
      "text/plain": [
       "['A', 'B', 'D']"
      ]
     },
     "execution_count": 60,
     "metadata": {},
     "output_type": "execute_result"
    }
   ],
   "source": [
    "#A* Algorithm\n",
    "\n",
    "from collections import deque\n",
    "class Graph:\n",
    "            # example of adjacency list (or rather map)\n",
    "            # adjacency_list = {\n",
    "            # 'A': [('B', 1), ('C', 3), ('D', 7)],\n",
    "            # 'B': [('D', 5)],\n",
    "            # 'C': [('D', 12)]\n",
    "            # }\n",
    "            def __init__(self, adjacency_list):\n",
    "                   self.adjacency_list = adjacency_list\n",
    "            def get_neighbors(self, v):\n",
    "                    return self.adjacency_list[v]\n",
    "            # heuristic function with equal values for all nodes\n",
    "            def h(self, n):\n",
    "                H = {\n",
    "                            'A': 1,\n",
    "                            'B': 1,\n",
    "                            'C': 1,\n",
    "                            'D': 1\n",
    "                        }\n",
    "                return H[n]\n",
    "            def a_star_algorithm(self, start_node, stop_node):\n",
    "                        # open_list is a list of nodes which have been visited, but who's neighbors\n",
    "                        # haven't all been inspected, starts off with the start node\n",
    "                        # closed_list is a list of nodes which have been visited\n",
    "                        # and who's neighbors have been inspected\n",
    "                        open_list = set([start_node])\n",
    "                        closed_list = set([])\n",
    "                        # g contains current distances from start_node to all other nodes\n",
    "                        # the default value (if it's not found in the map) is +infinity\n",
    "                        g = {}\n",
    "                        g[start_node] = 0\n",
    "                        # parents contains an adjacency map of all nodes\n",
    "                        parents = {}\n",
    "                        parents[start_node] = start_node\n",
    "                        while len(open_list) > 0:\n",
    "                                n = None\n",
    "                                # find a node with the lowest value of f() - evaluation function\n",
    "                                for v in open_list:\n",
    "                                    if n == None or g[v] + self.h(v) < g[n] + self.h(n):\n",
    "                                            n = v;\n",
    "                                if n == None:\n",
    "                                        print('Path does not exist!')\n",
    "                                        return None\n",
    "                                # if the current node is the stop_node\n",
    "                                # then we begin reconstructin the path from it to the start_node\n",
    "                                if n == stop_node:\n",
    "                                        reconst_path = []\n",
    "                                        while parents[n] != n:\n",
    "                                                    reconst_path.append(n)\n",
    "                                                    n = parents[n]\n",
    "                                        reconst_path.append(start_node)\n",
    "                                        reconst_path.reverse()\n",
    "                                        print('Path found: {}'.format(reconst_path))\n",
    "                                        return reconst_path\n",
    "                                # for all neighbors of the current node do\n",
    "                                for (m, weight) in self.get_neighbors(n):\n",
    "                                # if the current node isn't in both open_list and closed_list\n",
    "                                # add it to open_list and note n as it's parent\n",
    "                                    if m not in open_list and m not in closed_list:\n",
    "                                             open_list.add(m)\n",
    "                                             parents[m] = n\n",
    "                                             g[m] = g[n] + weight\n",
    "                                            # otherwise, check if it's quicker to first visit n, then m\n",
    "                                            # and if it is, update parent data and g data\n",
    "                                            # and if the node was in the closed_list, move it to open_list\n",
    "                                    else:\n",
    "                                            if g[m] > g[n] + weight:\n",
    "                                                g[m] = g[n] + weight\n",
    "                                                parents[m] = n\n",
    "                                            if m in closed_list:\n",
    "                                                closed_list.remove(m)\n",
    "                                                open_list.add(m)\n",
    "                                                # remove n from the open_list, and add it to closed_list\n",
    "                                                # because all of his neighbors were inspected\n",
    "                                open_list.remove(n)\n",
    "                                closed_list.add(n)\n",
    "                        print('Path does not exist!')\n",
    "                        return None\n",
    "        \n",
    "adjacency_list = {\n",
    "'A': [('B', 1), ('C', 3), ('D', 7)],\n",
    "'B': [('D', 5)],\n",
    "'C': [('D', 12)]\n",
    "}\n",
    "graph1 = Graph(adjacency_list)\n",
    "graph1.a_star_algorithm('A', 'D')"
   ]
  },
  {
   "cell_type": "code",
   "execution_count": null,
   "id": "8544b571",
   "metadata": {},
   "outputs": [],
   "source": []
  },
  {
   "cell_type": "code",
   "execution_count": null,
   "id": "3053f333",
   "metadata": {},
   "outputs": [],
   "source": []
  }
 ],
 "metadata": {
  "kernelspec": {
   "display_name": "Python 3 (ipykernel)",
   "language": "python",
   "name": "python3"
  },
  "language_info": {
   "codemirror_mode": {
    "name": "ipython",
    "version": 3
   },
   "file_extension": ".py",
   "mimetype": "text/x-python",
   "name": "python",
   "nbconvert_exporter": "python",
   "pygments_lexer": "ipython3",
   "version": "3.9.7"
  }
 },
 "nbformat": 4,
 "nbformat_minor": 5
}
